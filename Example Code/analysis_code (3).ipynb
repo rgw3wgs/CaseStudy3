{
 "cells": [
  {
   "cell_type": "code",
   "execution_count": 18,
   "metadata": {},
   "outputs": [],
   "source": [
    "import numpy as np\n",
    "import pandas as pd \n",
    "from scipy.stats import ttest_ind"
   ]
  },
  {
   "cell_type": "code",
   "execution_count": 19,
   "metadata": {},
   "outputs": [],
   "source": [
    "# read in data \n",
    "data = pd.read_csv(\"/Users/victoriaguo/Desktop/DS 4002/project 1/final_data.csv\")"
   ]
  },
  {
   "cell_type": "code",
   "execution_count": 20,
   "metadata": {},
   "outputs": [],
   "source": [
    "# split data into two groups: positive and negative\n",
    "positive = data[data['sentiment'] == 'Positive']['helpful_rate']\n",
    "negative = data[data['sentiment'] == 'Negative']['helpful_rate']"
   ]
  },
  {
   "cell_type": "markdown",
   "metadata": {},
   "source": [
    "we want to make sure our assumptions for t tests are met: normality & constant variance"
   ]
  },
  {
   "cell_type": "code",
   "execution_count": 21,
   "metadata": {},
   "outputs": [
    {
     "name": "stdout",
     "output_type": "stream",
     "text": [
      "Kolmogorov-Smirnov Test:\n",
      "Statistic: 0.5\n",
      "P-value: 0.0\n"
     ]
    }
   ],
   "source": [
    "# test for normality: kolmogorov-smirnov test\n",
    "from scipy.stats import kstest\n",
    "\n",
    "statistic, p_value = kstest(data['helpful_rate'], 'norm')\n",
    "\n",
    "print(\"Kolmogorov-Smirnov Test:\")\n",
    "print(\"Statistic:\", statistic)\n",
    "print(\"P-value:\", p_value)"
   ]
  },
  {
   "cell_type": "markdown",
   "metadata": {},
   "source": [
    "Even though the test for normality is not met, our dataset contains 9000 observations, which means our sample size is large enough to proceed with a t-test."
   ]
  },
  {
   "cell_type": "code",
   "execution_count": 22,
   "metadata": {},
   "outputs": [
    {
     "name": "stdout",
     "output_type": "stream",
     "text": [
      "Bartlett's Test:\n",
      "Statistic: 7.18957112739276\n",
      "P-value: 0.007332850497683136\n"
     ]
    }
   ],
   "source": [
    "# test for constant variance: bartlett's \n",
    "from scipy.stats import bartlett\n",
    "\n",
    "statistic, p_value = bartlett(positive, negative)\n",
    "print(\"Bartlett's Test:\")\n",
    "print(\"Statistic:\", statistic)\n",
    "print(\"P-value:\", p_value)"
   ]
  },
  {
   "cell_type": "markdown",
   "metadata": {},
   "source": [
    "Even though the test for constant variance is not met, our dataset contains 9000 observations, which means our sample size is large enough to proceed with a t-test."
   ]
  },
  {
   "cell_type": "code",
   "execution_count": 23,
   "metadata": {},
   "outputs": [
    {
     "name": "stdout",
     "output_type": "stream",
     "text": [
      "T-Statistic: -2.3533497496693596\n",
      "P-Value: 0.018625418802965643\n"
     ]
    }
   ],
   "source": [
    "# perform independent t tests\n",
    "t_statistic, p_value = ttest_ind(positive, negative)\n",
    "\n",
    "print(\"T-Statistic:\", t_statistic)\n",
    "print(\"P-Value:\", p_value)"
   ]
  },
  {
   "cell_type": "markdown",
   "metadata": {},
   "source": [
    "Conclusion: reject the null hypothesis. There is a significant difference between helpfulness ratings between negative and positive reviews."
   ]
  },
  {
   "cell_type": "code",
   "execution_count": 24,
   "metadata": {},
   "outputs": [],
   "source": [
    "# create new dataframe with sentiment as columns\n",
    "\n",
    "new = pd.DataFrame()\n",
    "\n",
    "new['Positive'] = data.loc[data['sentiment'] == 'Positive', 'helpful_rate'].reset_index(drop=True)\n",
    "\n",
    "new['Negative'] = data.loc[data['sentiment'] == 'Negative', 'helpful_rate'].reset_index(drop=True)\n"
   ]
  },
  {
   "cell_type": "code",
   "execution_count": 28,
   "metadata": {},
   "outputs": [
    {
     "data": {
      "text/html": [
       "<div>\n",
       "<style scoped>\n",
       "    .dataframe tbody tr th:only-of-type {\n",
       "        vertical-align: middle;\n",
       "    }\n",
       "\n",
       "    .dataframe tbody tr th {\n",
       "        vertical-align: top;\n",
       "    }\n",
       "\n",
       "    .dataframe thead th {\n",
       "        text-align: right;\n",
       "    }\n",
       "</style>\n",
       "<table border=\"1\" class=\"dataframe\">\n",
       "  <thead>\n",
       "    <tr style=\"text-align: right;\">\n",
       "      <th></th>\n",
       "      <th>Positive</th>\n",
       "      <th>Negative</th>\n",
       "    </tr>\n",
       "  </thead>\n",
       "  <tbody>\n",
       "    <tr>\n",
       "      <th>1</th>\n",
       "      <td>0.93</td>\n",
       "      <td>1.00</td>\n",
       "    </tr>\n",
       "    <tr>\n",
       "      <th>9</th>\n",
       "      <td>1.00</td>\n",
       "      <td>1.00</td>\n",
       "    </tr>\n",
       "    <tr>\n",
       "      <th>15</th>\n",
       "      <td>1.00</td>\n",
       "      <td>0.86</td>\n",
       "    </tr>\n",
       "    <tr>\n",
       "      <th>60</th>\n",
       "      <td>1.00</td>\n",
       "      <td>1.00</td>\n",
       "    </tr>\n",
       "    <tr>\n",
       "      <th>68</th>\n",
       "      <td>1.00</td>\n",
       "      <td>1.00</td>\n",
       "    </tr>\n",
       "  </tbody>\n",
       "</table>\n",
       "</div>"
      ],
      "text/plain": [
       "    Positive  Negative\n",
       "1       0.93      1.00\n",
       "9       1.00      1.00\n",
       "15      1.00      0.86\n",
       "60      1.00      1.00\n",
       "68      1.00      1.00"
      ]
     },
     "execution_count": 28,
     "metadata": {},
     "output_type": "execute_result"
    }
   ],
   "source": [
    "# remove 0 values\n",
    "new = new[new['Positive'] != 0.00]\n",
    "new = new[new['Negative'] != 0.00]\n",
    "\n",
    "new.head()"
   ]
  },
  {
   "cell_type": "code",
   "execution_count": 30,
   "metadata": {},
   "outputs": [
    {
     "name": "stdout",
     "output_type": "stream",
     "text": [
      "Wilcoxon Signed-Rank Test:\n",
      "Statistic: [ 0. nan]\n",
      "P-value: [ 0. nan]\n"
     ]
    }
   ],
   "source": [
    "# because the assumptions above were not met, we performed a non-parametric test to validate the conclusions (no assumptions about data necessary)\n",
    "from scipy.stats import wilcoxon\n",
    "\n",
    "# Assuming 'data' is your paired data\n",
    "# Perform Wilcoxon signed-rank test\n",
    "statistic, p_value = wilcoxon(new)\n",
    "print(\"Wilcoxon Signed-Rank Test:\")\n",
    "print(\"Statistic:\", statistic)\n",
    "print(\"P-value:\", p_value)\n"
   ]
  },
  {
   "cell_type": "markdown",
   "metadata": {},
   "source": [
    "p-value is virtually 0 so we can reject null. We have sufficient evidence to conclude that the helpful rate between positive and negative reviews are different. "
   ]
  }
 ],
 "metadata": {
  "kernelspec": {
   "display_name": "Python 3",
   "language": "python",
   "name": "python3"
  },
  "language_info": {
   "codemirror_mode": {
    "name": "ipython",
    "version": 3
   },
   "file_extension": ".py",
   "mimetype": "text/x-python",
   "name": "python",
   "nbconvert_exporter": "python",
   "pygments_lexer": "ipython3",
   "version": "3.9.6"
  }
 },
 "nbformat": 4,
 "nbformat_minor": 2
}
